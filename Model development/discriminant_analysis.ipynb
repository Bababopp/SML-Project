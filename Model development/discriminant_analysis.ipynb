{
 "cells": [
  {
   "cell_type": "code",
   "execution_count": null,
   "metadata": {},
   "outputs": [],
   "source": [
    "# Import packages\n",
    "import pandas as pd\n",
    "import numpy as np\n",
    "from pathlib import Path\n",
    "from sklearn.model_selection import StratifiedKFold\n",
    "from sklearn.model_selection import cross_val_score\n",
    "from sklearn.metrics import accuracy_score, classification_report, confusion_matrix\n",
    "from sklearn.preprocessing import StandardScaler\n",
    "from sklearn.discriminant_analysis import LinearDiscriminantAnalysis\n",
    "from sklearn.discriminant_analysis import QuadraticDiscriminantAnalysis\n",
    "from sklearn.compose import ColumnTransformer\n"
   ]
  },
  {
   "cell_type": "code",
   "execution_count": null,
   "metadata": {},
   "outputs": [],
   "source": [
    "# Read the preprocessed data\n",
    "\n",
    "# Construct the full path to the CSV file\n",
    "csv_file_path_pre_processed = Path.cwd().parent / 'preprocessed_data.csv'\n",
    "csv_file_path_raw = Path.cwd().parent / 'training_data_vt2025.csv'\n",
    "\n",
    "# Read the CSV file using pandas\n",
    "pre_processed_data = pd.read_csv(csv_file_path_pre_processed)\n",
    "raw_data = pd.read_csv(csv_file_path_raw)"
   ]
  },
  {
   "cell_type": "code",
   "execution_count": null,
   "metadata": {},
   "outputs": [],
   "source": [
    "# Split the data into input values, X, and output value, y\n",
    "X = pre_processed_data.drop(columns=['increase_stock'])\n",
    "y = pre_processed_data['increase_stock']"
   ]
  },
  {
   "cell_type": "code",
   "execution_count": null,
   "metadata": {},
   "outputs": [],
   "source": [
    "# Stratified K-Fold Cross Validation (better for imbalanced classification problems)\n",
    "K = 10\n",
    "skf = StratifiedKFold(n_splits=K, shuffle=True, random_state=42)\n",
    "accuracies = []\n",
    "models = []\n",
    "classification_report = []\n",
    "confusion_matrices = []\n",
    "\n",
    "for fold, (train_index, val_index) in enumerate(skf.split(X, y)):\n",
    "    X_train, X_val = X.iloc[train_index], X.iloc[val_index]\n",
    "    y_train, y_val = y.iloc[train_index], y.iloc[val_index]\n",
    "    \n",
    "    # Standardize\n",
    "    ct = ColumnTransformer([\n",
    "        ('scaler', StandardScaler(), ['temp','dew', 'windspeed']),\n",
    "        ('passthrough', 'passthrough', ['weekday', 'day_of_week_sin', 'day_of_week_cos' ])\n",
    "    ])\n",
    "\n",
    "    # Train the model\n",
    "\n",
    "    # Make predictions on the validation set\n",
    "\n",
    "    # Evaluate the model\n",
    "\n"
   ]
  },
  {
   "cell_type": "code",
   "execution_count": null,
   "metadata": {},
   "outputs": [],
   "source": [
    "# Initializing the model and training it through stratified k-fold cross validation\n",
    "model = LinearDiscriminantAnalysis()\n",
    "scores = cross_val_score(model, X, y, cv=skf, scoring='f1')"
   ]
  },
  {
   "cell_type": "code",
   "execution_count": 55,
   "metadata": {},
   "outputs": [
    {
     "name": "stdout",
     "output_type": "stream",
     "text": [
      "Cross-validation scores:  [0.45454545 0.4        0.37209302 0.45454545 0.59259259 0.6\n",
      " 0.54166667 0.39130435 0.47826087 0.33333333]\n",
      "Mean accuracy:  0.461834174233062\n",
      "Standard deviation:  0.08735029205764182\n"
     ]
    }
   ],
   "source": [
    "print(\"Cross-validation scores: \", scores)\n",
    "print(\"Mean accuracy: \", np.mean(scores))\n",
    "print(\"Standard deviation: \", np.std(scores))"
   ]
  }
 ],
 "metadata": {
  "kernelspec": {
   "display_name": "base",
   "language": "python",
   "name": "python3"
  },
  "language_info": {
   "codemirror_mode": {
    "name": "ipython",
    "version": 3
   },
   "file_extension": ".py",
   "mimetype": "text/x-python",
   "name": "python",
   "nbconvert_exporter": "python",
   "pygments_lexer": "ipython3",
   "version": "3.12.4"
  }
 },
 "nbformat": 4,
 "nbformat_minor": 2
}
