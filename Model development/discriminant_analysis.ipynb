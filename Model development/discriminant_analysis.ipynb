{
 "cells": [
  {
   "cell_type": "code",
   "execution_count": 2,
   "metadata": {},
   "outputs": [],
   "source": [
    "# Import packages\n",
    "import pandas as pd\n",
    "import numpy as np\n",
    "from pathlib import Path\n",
    "from sklearn.model_selection import StratifiedKFold\n",
    "from sklearn.model_selection import cross_val_score\n",
    "from sklearn.metrics import accuracy_score, classification_report, confusion_matrix\n",
    "from sklearn.preprocessing import StandardScaler\n",
    "from sklearn.preprocessing import MinMaxScaler\n",
    "from sklearn.discriminant_analysis import LinearDiscriminantAnalysis\n",
    "from sklearn.discriminant_analysis import QuadraticDiscriminantAnalysis\n",
    "from sklearn.compose import ColumnTransformer\n"
   ]
  },
  {
   "cell_type": "code",
   "execution_count": 3,
   "metadata": {},
   "outputs": [],
   "source": [
    "# Read the preprocessed data\n",
    "\n",
    "# Construct the full path to the CSV file\n",
    "csv_file_path_pre_processed = Path.cwd().parent / 'preprocessed_data.csv'\n",
    "csv_file_path_raw = Path.cwd().parent / 'training_data_vt2025.csv'\n",
    "\n",
    "# Read the CSV file using pandas\n",
    "pre_processed_data = pd.read_csv(csv_file_path_pre_processed)\n",
    "raw_data = pd.read_csv(csv_file_path_raw)"
   ]
  },
  {
   "cell_type": "code",
   "execution_count": 4,
   "metadata": {},
   "outputs": [],
   "source": [
    "# Split the data into input values, X, and output value, y\n",
    "X = pre_processed_data.drop(columns=['increase_stock'])\n",
    "y = pre_processed_data['increase_stock']"
   ]
  },
  {
   "cell_type": "code",
   "execution_count": 13,
   "metadata": {},
   "outputs": [],
   "source": [
    "# Stratified K-Fold Cross Validation (better for imbalanced classification problems)\n",
    "\n",
    "def model_training(X, y, k, model):\n",
    "    skf = StratifiedKFold(n_splits=k, shuffle=True, random_state=42)\n",
    "    accuracies = []\n",
    "    models = []\n",
    "    classification_reports = []\n",
    "    confusion_matrices = []\n",
    "\n",
    "    for fold, (train_index, val_index) in enumerate(skf.split(X, y)):\n",
    "        print(f\"Fold {fold+1}/{k}\")\n",
    "        \n",
    "        X_train, X_val = X.iloc[train_index], X.iloc[val_index]\n",
    "        y_train, y_val = y.iloc[train_index], y.iloc[val_index]\n",
    "        \n",
    "        # Scaling\n",
    "        ct = ColumnTransformer([\n",
    "            ('scaler', StandardScaler(), ['temp','dew', 'windspeed', 'day_of_week_sin', 'day_of_week_cos', 'hour_of_day_sin', 'hour_of_day_cos', 'month_sin', 'month_cos']),\n",
    "            ('passthrough', 'passthrough', ['weekday', 'is_raining', 'is_snowing', 'is_summer']),\n",
    "            ('minmax', MinMaxScaler(), ['humidity', 'cloudcover'])\n",
    "        ], remainder='passthrough')\n",
    "        X_train = ct.fit_transform(X_train)\n",
    "        X_val = ct.transform(X_val)\n",
    "\n",
    "        # Train the model\n",
    "        model_1 = model\n",
    "        model_1.fit(X_train, y_train)\n",
    "\n",
    "        # Make predictions on the validation set\n",
    "        y_pred = model_1.predict(X_val)\n",
    "\n",
    "        # Evaluate the model\n",
    "        accuracy = accuracy_score(y_val, y_pred)\n",
    "        accuracies.append(accuracy)\n",
    "\n",
    "        report = classification_report(y_val, y_pred, output_dict=True) \n",
    "        classification_reports.append(report)\n",
    "\n",
    "        cm = confusion_matrix(y_val, y_pred)\n",
    "        confusion_matrices.append(cm)\n",
    "\n",
    "        models.append(model_1)\n",
    "\n",
    "    mean_accuracy = np.mean(accuracies)\n",
    "    std_accuracy = np.std(accuracies)\n",
    "\n",
    "    results = {\n",
    "        'mean_accuracy': mean_accuracy,\n",
    "        'std_accuracy': std_accuracy,\n",
    "        'models': models,\n",
    "        'classification_reports': classification_reports,\n",
    "        'confusion_matrices': confusion_matrices\n",
    "    }\n",
    "\n",
    "    return results"
   ]
  },
  {
   "cell_type": "code",
   "execution_count": 21,
   "metadata": {},
   "outputs": [
    {
     "name": "stdout",
     "output_type": "stream",
     "text": [
      "Fold 1/5\n",
      "Fold 2/5\n",
      "Fold 3/5\n",
      "Fold 4/5\n",
      "Fold 5/5\n"
     ]
    }
   ],
   "source": [
    "results = model_training(X, y, 5, LinearDiscriminantAnalysis())"
   ]
  },
  {
   "cell_type": "code",
   "execution_count": 22,
   "metadata": {},
   "outputs": [
    {
     "name": "stdout",
     "output_type": "stream",
     "text": [
      "Mean Accuracy: 0.8606\n",
      "Standard Deviation of Accuracy: 0.0073\n"
     ]
    }
   ],
   "source": [
    "print(f\"Mean Accuracy: {results['mean_accuracy']:.4f}\")\n",
    "print(f\"Standard Deviation of Accuracy: {results['std_accuracy']:.4f}\")"
   ]
  },
  {
   "cell_type": "code",
   "execution_count": null,
   "metadata": {},
   "outputs": [
    {
     "data": {
      "text/plain": [
       "{'0': {'precision': 0.8905109489051095,\n",
       "  'recall': 0.9277566539923955,\n",
       "  'f1-score': 0.9087523277467412,\n",
       "  'support': 263.0},\n",
       " '1': {'precision': 0.5869565217391305,\n",
       "  'recall': 0.47368421052631576,\n",
       "  'f1-score': 0.5242718446601942,\n",
       "  'support': 57.0},\n",
       " 'accuracy': 0.846875,\n",
       " 'macro avg': {'precision': 0.7387337353221199,\n",
       "  'recall': 0.7007204322593557,\n",
       "  'f1-score': 0.7165120862034677,\n",
       "  'support': 320.0},\n",
       " 'weighted avg': {'precision': 0.8364403165661696,\n",
       "  'recall': 0.846875,\n",
       "  'f1-score': 0.84026674169695,\n",
       "  'support': 320.0}}"
      ]
     },
     "execution_count": 18,
     "metadata": {},
     "output_type": "execute_result"
    }
   ],
   "source": [
    "classification_reports[1]"
   ]
  }
 ],
 "metadata": {
  "kernelspec": {
   "display_name": "base",
   "language": "python",
   "name": "python3"
  },
  "language_info": {
   "codemirror_mode": {
    "name": "ipython",
    "version": 3
   },
   "file_extension": ".py",
   "mimetype": "text/x-python",
   "name": "python",
   "nbconvert_exporter": "python",
   "pygments_lexer": "ipython3",
   "version": "3.12.4"
  }
 },
 "nbformat": 4,
 "nbformat_minor": 2
}
