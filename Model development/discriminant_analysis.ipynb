{
 "cells": [
  {
   "cell_type": "code",
   "execution_count": 30,
   "metadata": {},
   "outputs": [],
   "source": [
    "# Import packages\n",
    "import pandas as pd\n",
    "import numpy as np\n",
    "from pathlib import Path\n",
    "from sklearn.model_selection import StratifiedKFold\n",
    "from sklearn.model_selection import cross_val_score\n",
    "from sklearn.discriminant_analysis import LinearDiscriminantAnalysis\n",
    "from sklearn.discriminant_analysis import QuadraticDiscriminantAnalysis"
   ]
  },
  {
   "cell_type": "code",
   "execution_count": 31,
   "metadata": {},
   "outputs": [],
   "source": [
    "# Read the preprocessed data\n",
    "\n",
    "# Construct the full path to the CSV file\n",
    "csv_file_path = Path.cwd().parent / 'preprocessed_data.csv'\n",
    "\n",
    "# Read the CSV file using pandas\n",
    "data = pd.read_csv(csv_file_path)"
   ]
  },
  {
   "cell_type": "code",
   "execution_count": 32,
   "metadata": {},
   "outputs": [],
   "source": [
    "# Split the data into input values, X, and output value, y\n",
    "X = data.drop(columns=['increase_stock'])\n",
    "y = data['increase_stock']"
   ]
  },
  {
   "cell_type": "code",
   "execution_count": 33,
   "metadata": {},
   "outputs": [],
   "source": [
    "# Stratified K-Fold Cross Validation (better for imbalanced classification problems)\n",
    "K = 10\n",
    "skf = StratifiedKFold(n_splits=K, shuffle=True, random_state=42)"
   ]
  },
  {
   "cell_type": "code",
   "execution_count": 38,
   "metadata": {},
   "outputs": [],
   "source": [
    "# Initializing the model and training it through stratified k-fold cross validation\n",
    "model = LinearDiscriminantAnalysis()\n",
    "scores = cross_val_score(model, X, y, cv=skf, scoring='f1')"
   ]
  },
  {
   "cell_type": "code",
   "execution_count": 39,
   "metadata": {},
   "outputs": [
    {
     "name": "stdout",
     "output_type": "stream",
     "text": [
      "Cross-validation scores:  [0.5106383  0.58181818 0.53061224 0.5        0.54545455 0.52830189\n",
      " 0.66666667 0.53061224 0.54901961 0.5       ]\n",
      "Mean accuracy:  0.5443123676243242\n",
      "Standard deviation:  0.04700378741938911\n"
     ]
    }
   ],
   "source": [
    "print(\"Cross-validation scores: \", scores)\n",
    "print(\"Mean accuracy: \", np.mean(scores))\n",
    "print(\"Standard deviation: \", np.std(scores))"
   ]
  }
 ],
 "metadata": {
  "kernelspec": {
   "display_name": "base",
   "language": "python",
   "name": "python3"
  },
  "language_info": {
   "codemirror_mode": {
    "name": "ipython",
    "version": 3
   },
   "file_extension": ".py",
   "mimetype": "text/x-python",
   "name": "python",
   "nbconvert_exporter": "python",
   "pygments_lexer": "ipython3",
   "version": "3.12.4"
  }
 },
 "nbformat": 4,
 "nbformat_minor": 2
}
