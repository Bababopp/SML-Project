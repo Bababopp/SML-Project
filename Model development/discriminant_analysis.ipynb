{
 "cells": [
  {
   "cell_type": "code",
   "execution_count": 859,
   "metadata": {},
   "outputs": [],
   "source": [
    "# Import packages\n",
    "import pandas as pd\n",
    "import numpy as np\n",
    "from pathlib import Path\n",
    "from sklearn.model_selection import StratifiedKFold\n",
    "from sklearn.model_selection import cross_val_score\n",
    "from sklearn.metrics import accuracy_score, classification_report, confusion_matrix\n",
    "from sklearn.preprocessing import StandardScaler\n",
    "from sklearn.preprocessing import MinMaxScaler\n",
    "from sklearn.preprocessing import RobustScaler\n",
    "from sklearn.preprocessing import PowerTransformer\n",
    "from sklearn.discriminant_analysis import LinearDiscriminantAnalysis\n",
    "from sklearn.discriminant_analysis import QuadraticDiscriminantAnalysis\n",
    "from sklearn.neighbors import KNeighborsClassifier\n",
    "from xgboost import XGBClassifier\n",
    "from sklearn.tree import DecisionTreeClassifier\n",
    "from sklearn.ensemble import AdaBoostClassifier\n",
    "from sklearn.compose import ColumnTransformer\n",
    "from sklearn.model_selection import train_test_split\n",
    "import matplotlib.pyplot as plt\n",
    "from IPython.core.pylabtools import figsize\n",
    "figsize(10, 6) # Width and hight\n",
    "\n"
   ]
  },
  {
   "cell_type": "code",
   "execution_count": 860,
   "metadata": {},
   "outputs": [],
   "source": [
    "# Read the preprocessed data\n",
    "\n",
    "# Construct the full path to the CSV file\n",
    "csv_file_path_pre_processed = Path.cwd().parent / 'preprocessed_data_2.csv'\n",
    "csv_file_path_raw = Path.cwd().parent / 'training_data_vt2025.csv'\n",
    "\n",
    "# Read the CSV file using pandas\n",
    "pre_processed_data = pd.read_csv(csv_file_path_pre_processed)\n",
    "raw_data = pd.read_csv(csv_file_path_raw)"
   ]
  },
  {
   "cell_type": "code",
   "execution_count": 861,
   "metadata": {},
   "outputs": [],
   "source": [
    "# Split the data into input values, X, and output value, y\n",
    "X = pre_processed_data.drop(columns=['increase_stock'])\n",
    "y = pre_processed_data['increase_stock']"
   ]
  },
  {
   "cell_type": "code",
   "execution_count": 862,
   "metadata": {},
   "outputs": [],
   "source": [
    "# Stratified K-Fold Cross Validation (better for imbalanced classification problems)\n",
    "\n",
    "def model_training(X, y, k, model):\n",
    "    skf = StratifiedKFold(n_splits=k, shuffle=True, random_state=42)\n",
    "    accuracies = []\n",
    "    models = []\n",
    "    classification_reports = []\n",
    "    confusion_matrices = []\n",
    "\n",
    "    for fold, (train_index, val_index) in enumerate(skf.split(X, y)):\n",
    "        print(f\"Fold {fold+1}/{k}\")\n",
    "        \n",
    "        X_train, X_val = X.iloc[train_index], X.iloc[val_index]\n",
    "        y_train, y_val = y.iloc[train_index], y.iloc[val_index]\n",
    "        \n",
    "        # Scaling\n",
    "        ct = ColumnTransformer([\n",
    "            ('scaler', StandardScaler(), ['temp','dew', 'windspeed','day_of_week_sin', 'day_of_week_cos', 'hour_of_day_sin', 'hour_of_day_cos', 'month_sin', 'month_cos' ]),\n",
    "            ('minmax', MinMaxScaler(), ['humidity', 'cloudcover']),\n",
    "            ('robust', RobustScaler(), ['precip', 'snowdepth', 'visibility']),\n",
    "            ('passthrough', 'passthrough', ['weekday', 'is_summer'])\n",
    "        ], remainder='passthrough')\n",
    "        X_train = ct.fit_transform(X_train)\n",
    "        X_val = ct.transform(X_val)\n",
    "\n",
    "        # Train the model\n",
    "        model_1 = model\n",
    "        model_1.fit(X_train, y_train)\n",
    "\n",
    "        # Make predictions on the validation set\n",
    "        y_pred = model_1.predict(X_val)\n",
    "\n",
    "        # predict_prob = model.predict_proba(X_val)\n",
    "        # positive_class_index = np.argwhere(model_1.classes_ == 1).squeeze()\n",
    "        # y_pred = np.where(predict_prob[:, positive_class_index] > 0.38, 1, 0)\n",
    "\n",
    "        # Evaluate the model\n",
    "        accuracy = accuracy_score(y_val, y_pred)\n",
    "        accuracies.append(accuracy)\n",
    "\n",
    "        report = classification_report(y_val, y_pred, output_dict=True) \n",
    "        classification_reports.append(report)\n",
    "\n",
    "        cm = confusion_matrix(y_val, y_pred)\n",
    "        confusion_matrices.append(cm)\n",
    "\n",
    "        models.append(model_1)\n",
    "\n",
    "    mean_accuracy = np.mean(accuracies)\n",
    "    std_accuracy = np.std(accuracies)\n",
    "\n",
    "    results = {\n",
    "        'mean_accuracy': mean_accuracy,\n",
    "        'std_accuracy': std_accuracy,\n",
    "        'models': models,\n",
    "        'classification_reports': classification_reports,\n",
    "        'confusion_matrices': confusion_matrices\n",
    "    }\n",
    "\n",
    "    return results"
   ]
  },
  {
   "cell_type": "code",
   "execution_count": 863,
   "metadata": {},
   "outputs": [
    {
     "name": "stdout",
     "output_type": "stream",
     "text": [
      "Fold 1/5\n",
      "Fold 2/5\n",
      "Fold 3/5\n",
      "Fold 4/5\n",
      "Fold 5/5\n"
     ]
    }
   ],
   "source": [
    "n_folds = 5\n",
    "\n",
    "results = model_training(X, y, n_folds, LinearDiscriminantAnalysis())"
   ]
  },
  {
   "cell_type": "code",
   "execution_count": 864,
   "metadata": {},
   "outputs": [
    {
     "name": "stdout",
     "output_type": "stream",
     "text": [
      "Mean Accuracy: 0.8606\n",
      "Standard Deviation of Accuracy: 0.0058\n"
     ]
    }
   ],
   "source": [
    "print(f\"Mean Accuracy: {results['mean_accuracy']:.4f}\")\n",
    "print(f\"Standard Deviation of Accuracy: {results['std_accuracy']:.4f}\")"
   ]
  },
  {
   "cell_type": "code",
   "execution_count": 865,
   "metadata": {},
   "outputs": [],
   "source": [
    "f1_scores = []\n",
    "for i in range(n_folds):\n",
    "    f1_scores.append(results['classification_reports'][i]['weighted avg']['f1-score'])"
   ]
  },
  {
   "cell_type": "code",
   "execution_count": 866,
   "metadata": {},
   "outputs": [
    {
     "data": {
      "text/plain": [
       "0.8549858597294886"
      ]
     },
     "execution_count": 866,
     "metadata": {},
     "output_type": "execute_result"
    }
   ],
   "source": [
    "mean_f1_score = np.mean(f1_scores)\n",
    "mean_f1_score"
   ]
  },
  {
   "cell_type": "code",
   "execution_count": 867,
   "metadata": {},
   "outputs": [
    {
     "data": {
      "text/plain": [
       "{'0': {'precision': 0.9029850746268657,\n",
       "  'recall': 0.9201520912547528,\n",
       "  'f1-score': 0.911487758945386,\n",
       "  'support': 263.0},\n",
       " '1': {'precision': 0.5961538461538461,\n",
       "  'recall': 0.543859649122807,\n",
       "  'f1-score': 0.5688073394495413,\n",
       "  'support': 57.0},\n",
       " 'accuracy': 0.853125,\n",
       " 'macro avg': {'precision': 0.749569460390356,\n",
       "  'recall': 0.7320058701887799,\n",
       "  'f1-score': 0.7401475491974636,\n",
       "  'support': 320.0},\n",
       " 'weighted avg': {'precision': 0.8483307620551092,\n",
       "  'recall': 0.853125,\n",
       "  'f1-score': 0.8504478092226886,\n",
       "  'support': 320.0}}"
      ]
     },
     "execution_count": 867,
     "metadata": {},
     "output_type": "execute_result"
    }
   ],
   "source": [
    "results['classification_reports'][0]"
   ]
  },
  {
   "cell_type": "code",
   "execution_count": 868,
   "metadata": {},
   "outputs": [
    {
     "data": {
      "text/plain": [
       "array([[242,  21],\n",
       "       [ 26,  31]], dtype=int64)"
      ]
     },
     "execution_count": 868,
     "metadata": {},
     "output_type": "execute_result"
    }
   ],
   "source": [
    "results['confusion_matrices'][0]"
   ]
  },
  {
   "cell_type": "code",
   "execution_count": 869,
   "metadata": {},
   "outputs": [
    {
     "data": {
      "text/plain": [
       "Text(0, 0.5, 'True positive rate')"
      ]
     },
     "execution_count": 869,
     "metadata": {},
     "output_type": "execute_result"
    },
    {
     "data": {
      "image/png": "[encoded data removed]",
      "text/plain": [
       "<Figure size 1000x600 with 1 Axes>"
      ]
     },
     "metadata": {},
     "output_type": "display_data"
    }
   ],
   "source": [
    "X_train, X_test, y_train, y_test = train_test_split(X, y, test_size=0.2, stratify=y, random_state=42)\n",
    "\n",
    "true_positive_rate = []\n",
    "false_positive_rate = []\n",
    "\n",
    "positive_class = 1\n",
    "negative_class = 0\n",
    "\n",
    "P = np.sum(y_test == positive_class)\n",
    "N = np.sum(y_test == negative_class)\n",
    "\n",
    "threshold = np.linspace(0.00, 1, 101)\n",
    "model = LinearDiscriminantAnalysis()\n",
    "model.fit(X_train, y_train)\n",
    "predict_prob = model.predict_proba(X_test)\n",
    "positive_class_index = np.argwhere(model.classes_ == positive_class).squeeze()\n",
    "\n",
    "for r in threshold:\n",
    "    prediction = np.where(predict_prob[:, positive_class_index] > r, positive_class, negative_class)\n",
    "\n",
    "    FP = np.sum((prediction == positive_class) & (y_test == negative_class))\n",
    "    TP = np.sum((prediction == positive_class) & (y_test == positive_class))\n",
    "\n",
    "    false_positive_rate.append(FP/N)\n",
    "    true_positive_rate.append(TP/P)\n",
    "\n",
    "plt.plot(false_positive_rate, true_positive_rate)\n",
    "for idx in [0, 1, 10, 50, 98, 100]:\n",
    "    plt.text(false_positive_rate[idx], true_positive_rate[idx], f\"r={threshold[idx]:.2f}\")\n",
    "plt.xlim([0,1])\n",
    "plt.ylim([0,1.1])\n",
    "plt.xlabel('False positive rate')\n",
    "plt.ylabel('True positive rate')"
   ]
  }
 ],
 "metadata": {
  "kernelspec": {
   "display_name": "base",
   "language": "python",
   "name": "python3"
  },
  "language_info": {
   "codemirror_mode": {
    "name": "ipython",
    "version": 3
   },
   "file_extension": ".py",
   "mimetype": "text/x-python",
   "name": "python",
   "nbconvert_exporter": "python",
   "pygments_lexer": "ipython3",
   "version": "3.12.4"
  }
 },
 "nbformat": 4,
 "nbformat_minor": 2
}
