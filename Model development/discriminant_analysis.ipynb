{
 "cells": [
  {
   "cell_type": "code",
   "execution_count": 49,
   "metadata": {},
   "outputs": [],
   "source": [
    "# Import packages\n",
    "import pandas as pd\n",
    "import numpy as np\n",
    "from pathlib import Path\n",
    "from sklearn.model_selection import StratifiedKFold\n",
    "from sklearn.model_selection import cross_val_score\n",
    "from sklearn.discriminant_analysis import LinearDiscriminantAnalysis\n",
    "from sklearn.discriminant_analysis import QuadraticDiscriminantAnalysis"
   ]
  },
  {
   "cell_type": "code",
   "execution_count": 50,
   "metadata": {},
   "outputs": [],
   "source": [
    "# Read the preprocessed data\n",
    "\n",
    "# Construct the full path to the CSV file\n",
    "csv_file_path_pre_processed = Path.cwd().parent / 'preprocessed_data.csv'\n",
    "csv_file_path_raw = Path.cwd().parent / 'training_data_vt2025.csv'\n",
    "\n",
    "# Read the CSV file using pandas\n",
    "pre_processed_data = pd.read_csv(csv_file_path_pre_processed)\n",
    "raw_data = pd.read_csv(csv_file_path_raw)\n",
    "\n"
   ]
  },
  {
   "cell_type": "code",
   "execution_count": 51,
   "metadata": {},
   "outputs": [
    {
     "name": "stderr",
     "output_type": "stream",
     "text": [
      "C:\\Users\\alexs\\AppData\\Local\\Temp\\ipykernel_22436\\4046344136.py:1: FutureWarning: Downcasting behavior in `replace` is deprecated and will be removed in a future version. To retain the old behavior, explicitly call `result.infer_objects(copy=False)`. To opt-in to the future behavior, set `pd.set_option('future.no_silent_downcasting', True)`\n",
      "  raw_data['increase_stock'] = raw_data['increase_stock'].replace({'high_bike_demand': 1, 'low_bike_demand': 0})\n"
     ]
    }
   ],
   "source": [
    "raw_data['increase_stock'] = raw_data['increase_stock'].replace({'high_bike_demand': 1, 'low_bike_demand': 0})"
   ]
  },
  {
   "cell_type": "code",
   "execution_count": 52,
   "metadata": {},
   "outputs": [],
   "source": [
    "# Split the data into input values, X, and output value, y\n",
    "X = raw_data.drop(columns=['increase_stock'])\n",
    "y = raw_data['increase_stock']"
   ]
  },
  {
   "cell_type": "code",
   "execution_count": 53,
   "metadata": {},
   "outputs": [],
   "source": [
    "# Stratified K-Fold Cross Validation (better for imbalanced classification problems)\n",
    "K = 10\n",
    "skf = StratifiedKFold(n_splits=K, shuffle=True, random_state=42)"
   ]
  },
  {
   "cell_type": "code",
   "execution_count": 54,
   "metadata": {},
   "outputs": [],
   "source": [
    "# Initializing the model and training it through stratified k-fold cross validation\n",
    "model = LinearDiscriminantAnalysis()\n",
    "scores = cross_val_score(model, X, y, cv=skf, scoring='f1')"
   ]
  },
  {
   "cell_type": "code",
   "execution_count": 55,
   "metadata": {},
   "outputs": [
    {
     "name": "stdout",
     "output_type": "stream",
     "text": [
      "Cross-validation scores:  [0.45454545 0.4        0.37209302 0.45454545 0.59259259 0.6\n",
      " 0.54166667 0.39130435 0.47826087 0.33333333]\n",
      "Mean accuracy:  0.461834174233062\n",
      "Standard deviation:  0.08735029205764182\n"
     ]
    }
   ],
   "source": [
    "print(\"Cross-validation scores: \", scores)\n",
    "print(\"Mean accuracy: \", np.mean(scores))\n",
    "print(\"Standard deviation: \", np.std(scores))"
   ]
  }
 ],
 "metadata": {
  "kernelspec": {
   "display_name": "base",
   "language": "python",
   "name": "python3"
  },
  "language_info": {
   "codemirror_mode": {
    "name": "ipython",
    "version": 3
   },
   "file_extension": ".py",
   "mimetype": "text/x-python",
   "name": "python",
   "nbconvert_exporter": "python",
   "pygments_lexer": "ipython3",
   "version": "3.12.4"
  }
 },
 "nbformat": 4,
 "nbformat_minor": 2
}
