{
 "cells": [
  {
   "cell_type": "code",
   "execution_count": 84,
   "metadata": {},
   "outputs": [],
   "source": [
    "# Import packages\n",
    "import pandas as pd\n",
    "import numpy as np\n",
    "from sklearn.preprocessing import StandardScaler\n",
    "from sklearn.preprocessing import MinMaxScaler"
   ]
  },
  {
   "cell_type": "code",
   "execution_count": 85,
   "metadata": {},
   "outputs": [],
   "source": [
    "# Import data\n",
    "data = pd.read_csv('training_data_vt2025.csv')"
   ]
  },
  {
   "cell_type": "code",
   "execution_count": 86,
   "metadata": {},
   "outputs": [],
   "source": [
    "def pre_processing(data):\n",
    "    # Make copy of dataset\n",
    "    data_processed = data.copy()\n",
    "\n",
    "    # Create new summertime feature\n",
    "    data_processed['is_summer'] = ((data_processed['month'] >= 3) & (data_processed['month'] <= 11)).astype(int)\n",
    "\n",
    "    # Normalize calendar data using cosine encoding\n",
    "    num_decimals = 6\n",
    "    data_processed['day_of_week'] = np.round(np.cos(2 * np.pi * data_processed['day_of_week'] / 7.0), num_decimals)\n",
    "    data_processed['month'] = np.round(np.cos(2 * np.pi * data_processed['month'] / 12), num_decimals)\n",
    "    data_processed['hour_of_day'] = np.round(np.cos(2 * np.pi * data_processed['hour_of_day'] / 24.0), num_decimals)\n",
    "\n",
    "    # Give target feature numerical values\n",
    "    data_processed['increase_stock'] = data_processed['increase_stock'].replace({'high_bike_demand': 1, 'low_bike_demand': 0})\n",
    "\n",
    "    # Create binary category of features\n",
    "    data_processed['is_raining'] = (data_processed['precip'] != 0).astype(int)\n",
    "    data_processed['is_snowing'] = (data_processed['snowdepth'] != 0).astype(int)\n",
    "    data_processed['is_visible'] = (data_processed['visibility'] != 16).astype(int)\n",
    "\n",
    "    # Drop columns\n",
    "    data_processed = data_processed.drop(columns=['holiday', 'snow', 'summertime', 'snowdepth', 'precip', 'visibility', 'summertime'])\n",
    "\n",
    "    # Standardize temp, dew and windspeed\n",
    "    cols_to_standardize = ['temp', 'dew', 'windspeed']\n",
    "    scaler_std = StandardScaler()\n",
    "    data_processed[cols_to_standardize] = np.round(scaler_std.fit_transform(data_processed[cols_to_standardize]), num_decimals)\n",
    "\n",
    "    # Normalize humidity and cloudcover\n",
    "    cols_to_normalize = ['humidity', 'cloudcover']\n",
    "    scaler_nor = MinMaxScaler()\n",
    "    data_processed[cols_to_normalize] = np.round(scaler_nor.fit_transform(data_processed[cols_to_normalize]), num_decimals)\n",
    "    return data_processed"
   ]
  },
  {
   "cell_type": "code",
   "execution_count": 87,
   "metadata": {},
   "outputs": [
    {
     "name": "stderr",
     "output_type": "stream",
     "text": [
      "C:\\Users\\alexs\\AppData\\Local\\Temp\\ipykernel_21752\\3347236774.py:15: FutureWarning: Downcasting behavior in `replace` is deprecated and will be removed in a future version. To retain the old behavior, explicitly call `result.infer_objects(copy=False)`. To opt-in to the future behavior, set `pd.set_option('future.no_silent_downcasting', True)`\n",
      "  data_processed['increase_stock'] = data_processed['increase_stock'].replace({'high_bike_demand': 1, 'low_bike_demand': 0})\n"
     ]
    }
   ],
   "source": [
    "new_data = pre_processing(data)"
   ]
  },
  {
   "cell_type": "code",
   "execution_count": 88,
   "metadata": {},
   "outputs": [
    {
     "name": "stdout",
     "output_type": "stream",
     "text": [
      "Preprocessing complete. File saved as preprocessed_data.csv\n"
     ]
    }
   ],
   "source": [
    "# Save the processed data\n",
    "new_data.to_csv(\"preprocessed_data.csv\", index=False)\n",
    "\n",
    "print(\"Preprocessing complete. File saved as preprocessed_data.csv\")"
   ]
  }
 ],
 "metadata": {
  "kernelspec": {
   "display_name": "base",
   "language": "python",
   "name": "python3"
  },
  "language_info": {
   "codemirror_mode": {
    "name": "ipython",
    "version": 3
   },
   "file_extension": ".py",
   "mimetype": "text/x-python",
   "name": "python",
   "nbconvert_exporter": "python",
   "pygments_lexer": "ipython3",
   "version": "3.12.4"
  }
 },
 "nbformat": 4,
 "nbformat_minor": 2
}
