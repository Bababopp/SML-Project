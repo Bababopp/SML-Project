{
 "cells": [
  {
   "cell_type": "code",
   "execution_count": 26,
   "metadata": {},
   "outputs": [],
   "source": [
    "# Import packages\n",
    "import pandas as pd\n",
    "import numpy as np\n",
    "from sklearn.preprocessing import StandardScaler\n",
    "from sklearn.preprocessing import MinMaxScaler"
   ]
  },
  {
   "cell_type": "code",
   "execution_count": 27,
   "metadata": {},
   "outputs": [],
   "source": [
    "# Import data\n",
    "data = pd.read_csv('training_data_vt2025.csv')"
   ]
  },
  {
   "cell_type": "code",
   "execution_count": 30,
   "metadata": {},
   "outputs": [],
   "source": [
    "def cyclical_encoding(df, column, period):\n",
    "    df[column + '_sin'] = np.round(np.sin(2 * np.pi * df[column] / period), 6)\n",
    "    df[column + '_cos'] = np.round(np.cos(2 * np.pi * df[column] / period), 6)\n",
    "    df.drop(columns=[column], inplace=True)  # Remove the original column\n",
    "    return df"
   ]
  },
  {
   "cell_type": "code",
   "execution_count": 31,
   "metadata": {},
   "outputs": [],
   "source": [
    "def pre_processing(data):\n",
    "    # Make copy of dataset\n",
    "    data_processed = data.copy()\n",
    "\n",
    "    # Create new summertime feature\n",
    "    data_processed['is_summer'] = ((data_processed['month'] >= 3) & (data_processed['month'] <= 11)).astype(int)\n",
    "\n",
    "    # Normalize calendar data using cosine encoding\n",
    "    data_processed = cyclical_encoding(data_processed, 'day_of_week', 7)\n",
    "    data_processed = cyclical_encoding(data_processed, 'hour_of_day', 24)\n",
    "    data_processed = cyclical_encoding(data_processed, 'month', 12) \n",
    "\n",
    "    # Give target feature numerical values\n",
    "    data_processed['increase_stock'] = data_processed['increase_stock'].replace({'high_bike_demand': 1, 'low_bike_demand': 0})\n",
    "\n",
    "    # Create binary category of features\n",
    "    data_processed['is_raining'] = (data_processed['precip'] != 0).astype(int)\n",
    "    data_processed['is_snowing'] = (data_processed['snowdepth'] != 0).astype(int)\n",
    "    data_processed['is_visible'] = (data_processed['visibility'] != 16).astype(int)\n",
    "\n",
    "    # Drop columns\n",
    "    data_processed = data_processed.drop(columns=['holiday', 'snow', 'snowdepth', 'precip', 'visibility', 'summertime'])\n",
    "\n",
    "    # # Standardize temp, dew and windspeed\n",
    "    # cols_to_standardize = ['temp', 'dew', 'windspeed']\n",
    "    # scaler_std = StandardScaler()\n",
    "    # data_processed[cols_to_standardize] = np.round(scaler_std.fit_transform(data_processed[cols_to_standardize]), num_decimals)\n",
    "\n",
    "    # # Normalize humidity and cloudcover\n",
    "    # cols_to_normalize = ['humidity', 'cloudcover']\n",
    "    # scaler_nor = MinMaxScaler()\n",
    "    # data_processed[cols_to_normalize] = np.round(scaler_nor.fit_transform(data_processed[cols_to_normalize]), num_decimals)\n",
    "    return data_processed"
   ]
  },
  {
   "cell_type": "code",
   "execution_count": 32,
   "metadata": {},
   "outputs": [
    {
     "name": "stderr",
     "output_type": "stream",
     "text": [
      "C:\\Users\\alexs\\AppData\\Local\\Temp\\ipykernel_17648\\1402590145.py:14: FutureWarning: Downcasting behavior in `replace` is deprecated and will be removed in a future version. To retain the old behavior, explicitly call `result.infer_objects(copy=False)`. To opt-in to the future behavior, set `pd.set_option('future.no_silent_downcasting', True)`\n",
      "  data_processed['increase_stock'] = data_processed['increase_stock'].replace({'high_bike_demand': 1, 'low_bike_demand': 0})\n"
     ]
    }
   ],
   "source": [
    "new_data = pre_processing(data)"
   ]
  },
  {
   "cell_type": "code",
   "execution_count": 33,
   "metadata": {},
   "outputs": [
    {
     "data": {
      "application/vnd.microsoft.datawrangler.viewer.v0+json": {
       "columns": [
        {
         "name": "index",
         "rawType": "int64",
         "type": "integer"
        },
        {
         "name": "weekday",
         "rawType": "int64",
         "type": "integer"
        },
        {
         "name": "temp",
         "rawType": "float64",
         "type": "float"
        },
        {
         "name": "dew",
         "rawType": "float64",
         "type": "float"
        },
        {
         "name": "humidity",
         "rawType": "float64",
         "type": "float"
        },
        {
         "name": "windspeed",
         "rawType": "float64",
         "type": "float"
        },
        {
         "name": "cloudcover",
         "rawType": "float64",
         "type": "float"
        },
        {
         "name": "increase_stock",
         "rawType": "int64",
         "type": "integer"
        },
        {
         "name": "is_summer",
         "rawType": "int32",
         "type": "integer"
        },
        {
         "name": "day_of_week_sin",
         "rawType": "float64",
         "type": "float"
        },
        {
         "name": "day_of_week_cos",
         "rawType": "float64",
         "type": "float"
        },
        {
         "name": "hour_of_day_sin",
         "rawType": "float64",
         "type": "float"
        },
        {
         "name": "hour_of_day_cos",
         "rawType": "float64",
         "type": "float"
        },
        {
         "name": "month_sin",
         "rawType": "float64",
         "type": "float"
        },
        {
         "name": "month_cos",
         "rawType": "float64",
         "type": "float"
        },
        {
         "name": "is_raining",
         "rawType": "int32",
         "type": "integer"
        },
        {
         "name": "is_snowing",
         "rawType": "int32",
         "type": "integer"
        },
        {
         "name": "is_visible",
         "rawType": "int32",
         "type": "integer"
        }
       ],
       "conversionMethod": "pd.DataFrame",
       "ref": "59b33098-cc1f-496a-9f78-9b41c856270f",
       "rows": [
        [
         "0",
         "0",
         "-7.2",
         "-15.0",
         "53.68",
         "16.3",
         "31.6",
         "0",
         "0",
         "-0.974928",
         "-0.222521",
         "0.965926",
         "0.258819",
         "0.5",
         "0.866025",
         "0",
         "0",
         "0"
        ],
        [
         "1",
         "1",
         "-1.3",
         "-12.8",
         "40.97",
         "23.9",
         "85.7",
         "0",
         "0",
         "-0.433884",
         "-0.900969",
         "-0.707107",
         "0.707107",
         "0.5",
         "0.866025",
         "0",
         "0",
         "0"
        ],
        [
         "2",
         "1",
         "26.9",
         "21.8",
         "73.39",
         "0.0",
         "81.1",
         "0",
         "1",
         "0.433884",
         "-0.900969",
         "-0.707107",
         "0.707107",
         "-0.866025",
         "-0.5",
         "0",
         "0",
         "0"
        ],
        [
         "3",
         "0",
         "3.1",
         "-4.0",
         "59.74",
         "19.2",
         "0.0",
         "0",
         "0",
         "-0.781831",
         "0.62349",
         "0.258819",
         "0.965926",
         "0.5",
         "0.866025",
         "0",
         "0",
         "0"
        ],
        [
         "4",
         "1",
         "11.7",
         "-11.4",
         "18.71",
         "10.5",
         "44.6",
         "0",
         "1",
         "0.0",
         "1.0",
         "-0.965926",
         "-0.258819",
         "1.0",
         "0.0",
         "0",
         "0",
         "0"
        ]
       ],
       "shape": {
        "columns": 17,
        "rows": 5
       }
      },
      "text/html": [
       "<div>\n",
       "<style scoped>\n",
       "    .dataframe tbody tr th:only-of-type {\n",
       "        vertical-align: middle;\n",
       "    }\n",
       "\n",
       "    .dataframe tbody tr th {\n",
       "        vertical-align: top;\n",
       "    }\n",
       "\n",
       "    .dataframe thead th {\n",
       "        text-align: right;\n",
       "    }\n",
       "</style>\n",
       "<table border=\"1\" class=\"dataframe\">\n",
       "  <thead>\n",
       "    <tr style=\"text-align: right;\">\n",
       "      <th></th>\n",
       "      <th>weekday</th>\n",
       "      <th>temp</th>\n",
       "      <th>dew</th>\n",
       "      <th>humidity</th>\n",
       "      <th>windspeed</th>\n",
       "      <th>cloudcover</th>\n",
       "      <th>increase_stock</th>\n",
       "      <th>is_summer</th>\n",
       "      <th>day_of_week_sin</th>\n",
       "      <th>day_of_week_cos</th>\n",
       "      <th>hour_of_day_sin</th>\n",
       "      <th>hour_of_day_cos</th>\n",
       "      <th>month_sin</th>\n",
       "      <th>month_cos</th>\n",
       "      <th>is_raining</th>\n",
       "      <th>is_snowing</th>\n",
       "      <th>is_visible</th>\n",
       "    </tr>\n",
       "  </thead>\n",
       "  <tbody>\n",
       "    <tr>\n",
       "      <th>0</th>\n",
       "      <td>0</td>\n",
       "      <td>-7.2</td>\n",
       "      <td>-15.0</td>\n",
       "      <td>53.68</td>\n",
       "      <td>16.3</td>\n",
       "      <td>31.6</td>\n",
       "      <td>0</td>\n",
       "      <td>0</td>\n",
       "      <td>-0.974928</td>\n",
       "      <td>-0.222521</td>\n",
       "      <td>0.965926</td>\n",
       "      <td>0.258819</td>\n",
       "      <td>0.500000</td>\n",
       "      <td>0.866025</td>\n",
       "      <td>0</td>\n",
       "      <td>0</td>\n",
       "      <td>0</td>\n",
       "    </tr>\n",
       "    <tr>\n",
       "      <th>1</th>\n",
       "      <td>1</td>\n",
       "      <td>-1.3</td>\n",
       "      <td>-12.8</td>\n",
       "      <td>40.97</td>\n",
       "      <td>23.9</td>\n",
       "      <td>85.7</td>\n",
       "      <td>0</td>\n",
       "      <td>0</td>\n",
       "      <td>-0.433884</td>\n",
       "      <td>-0.900969</td>\n",
       "      <td>-0.707107</td>\n",
       "      <td>0.707107</td>\n",
       "      <td>0.500000</td>\n",
       "      <td>0.866025</td>\n",
       "      <td>0</td>\n",
       "      <td>0</td>\n",
       "      <td>0</td>\n",
       "    </tr>\n",
       "    <tr>\n",
       "      <th>2</th>\n",
       "      <td>1</td>\n",
       "      <td>26.9</td>\n",
       "      <td>21.8</td>\n",
       "      <td>73.39</td>\n",
       "      <td>0.0</td>\n",
       "      <td>81.1</td>\n",
       "      <td>0</td>\n",
       "      <td>1</td>\n",
       "      <td>0.433884</td>\n",
       "      <td>-0.900969</td>\n",
       "      <td>-0.707107</td>\n",
       "      <td>0.707107</td>\n",
       "      <td>-0.866025</td>\n",
       "      <td>-0.500000</td>\n",
       "      <td>0</td>\n",
       "      <td>0</td>\n",
       "      <td>0</td>\n",
       "    </tr>\n",
       "    <tr>\n",
       "      <th>3</th>\n",
       "      <td>0</td>\n",
       "      <td>3.1</td>\n",
       "      <td>-4.0</td>\n",
       "      <td>59.74</td>\n",
       "      <td>19.2</td>\n",
       "      <td>0.0</td>\n",
       "      <td>0</td>\n",
       "      <td>0</td>\n",
       "      <td>-0.781831</td>\n",
       "      <td>0.623490</td>\n",
       "      <td>0.258819</td>\n",
       "      <td>0.965926</td>\n",
       "      <td>0.500000</td>\n",
       "      <td>0.866025</td>\n",
       "      <td>0</td>\n",
       "      <td>0</td>\n",
       "      <td>0</td>\n",
       "    </tr>\n",
       "    <tr>\n",
       "      <th>4</th>\n",
       "      <td>1</td>\n",
       "      <td>11.7</td>\n",
       "      <td>-11.4</td>\n",
       "      <td>18.71</td>\n",
       "      <td>10.5</td>\n",
       "      <td>44.6</td>\n",
       "      <td>0</td>\n",
       "      <td>1</td>\n",
       "      <td>0.000000</td>\n",
       "      <td>1.000000</td>\n",
       "      <td>-0.965926</td>\n",
       "      <td>-0.258819</td>\n",
       "      <td>1.000000</td>\n",
       "      <td>0.000000</td>\n",
       "      <td>0</td>\n",
       "      <td>0</td>\n",
       "      <td>0</td>\n",
       "    </tr>\n",
       "  </tbody>\n",
       "</table>\n",
       "</div>"
      ],
      "text/plain": [
       "   weekday  temp   dew  humidity  windspeed  cloudcover  increase_stock  \\\n",
       "0        0  -7.2 -15.0     53.68       16.3        31.6               0   \n",
       "1        1  -1.3 -12.8     40.97       23.9        85.7               0   \n",
       "2        1  26.9  21.8     73.39        0.0        81.1               0   \n",
       "3        0   3.1  -4.0     59.74       19.2         0.0               0   \n",
       "4        1  11.7 -11.4     18.71       10.5        44.6               0   \n",
       "\n",
       "   is_summer  day_of_week_sin  day_of_week_cos  hour_of_day_sin  \\\n",
       "0          0        -0.974928        -0.222521         0.965926   \n",
       "1          0        -0.433884        -0.900969        -0.707107   \n",
       "2          1         0.433884        -0.900969        -0.707107   \n",
       "3          0        -0.781831         0.623490         0.258819   \n",
       "4          1         0.000000         1.000000        -0.965926   \n",
       "\n",
       "   hour_of_day_cos  month_sin  month_cos  is_raining  is_snowing  is_visible  \n",
       "0         0.258819   0.500000   0.866025           0           0           0  \n",
       "1         0.707107   0.500000   0.866025           0           0           0  \n",
       "2         0.707107  -0.866025  -0.500000           0           0           0  \n",
       "3         0.965926   0.500000   0.866025           0           0           0  \n",
       "4        -0.258819   1.000000   0.000000           0           0           0  "
      ]
     },
     "execution_count": 33,
     "metadata": {},
     "output_type": "execute_result"
    }
   ],
   "source": [
    "new_data.head()"
   ]
  },
  {
   "cell_type": "code",
   "execution_count": 34,
   "metadata": {},
   "outputs": [
    {
     "name": "stdout",
     "output_type": "stream",
     "text": [
      "Preprocessing complete. File saved as preprocessed_data.csv\n"
     ]
    }
   ],
   "source": [
    "# Save the processed data\n",
    "new_data.to_csv(\"preprocessed_data.csv\", index=False)\n",
    "\n",
    "print(\"Preprocessing complete. File saved as preprocessed_data.csv\")"
   ]
  }
 ],
 "metadata": {
  "kernelspec": {
   "display_name": "base",
   "language": "python",
   "name": "python3"
  },
  "language_info": {
   "codemirror_mode": {
    "name": "ipython",
    "version": 3
   },
   "file_extension": ".py",
   "mimetype": "text/x-python",
   "name": "python",
   "nbconvert_exporter": "python",
   "pygments_lexer": "ipython3",
   "version": "3.12.4"
  }
 },
 "nbformat": 4,
 "nbformat_minor": 2
}
